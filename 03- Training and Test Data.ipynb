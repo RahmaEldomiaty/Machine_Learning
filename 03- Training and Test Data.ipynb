{
  "nbformat": 4,
  "nbformat_minor": 0,
  "metadata": {
    "colab": {
      "provenance": [],
      "gpuType": "T4"
    },
    "kernelspec": {
      "name": "python3",
      "display_name": "Python 3"
    },
    "language_info": {
      "name": "python"
    },
    "accelerator": "GPU"
  },
  "cells": [
    {
      "cell_type": "code",
      "execution_count": null,
      "metadata": {
        "id": "HkrZhGteAg9w"
      },
      "outputs": [],
      "source": [
        "from __future__ import absolute_import, division, print_function, unicode_literals\n",
        "\n",
        "import numpy as np\n",
        "import pandas as pd\n",
        "import matplotlib.pyplot as plt\n",
        "from IPython.display import clear_output\n",
        "from six.moves import urllib\n",
        "\n",
        "import tensorflow.compat.v2.feature_column as fc\n",
        "\n",
        "import tensorflow as tf"
      ]
    },
    {
      "cell_type": "code",
      "source": [
        "x_train = pd.read_csv('https://storage.googleapis.com/tf-datasets/titanic/train.csv') # training data\n",
        "x_eval = pd.read_csv('https://storage.googleapis.com/tf-datasets/titanic/eval.csv') # testing data\n",
        "y_train = x_train.pop('survived')\n",
        "y_eval = x_eval.pop('survived')"
      ],
      "metadata": {
        "id": "QCbmf-meAtVc"
      },
      "execution_count": null,
      "outputs": []
    },
    {
      "cell_type": "code",
      "source": [
        "feature_columns=[]\n",
        "\n",
        "CATEGORICAL_COLUMNS = ['sex', 'n_siblings_spouses', 'parch', 'class', 'deck',\n",
        "                       'embark_town', 'alone']\n",
        "NUMERIC_COLUMNS = ['age', 'fare']\n",
        "\n",
        "for feature_name in CATEGORICAL_COLUMNS:\n",
        "  vocab= x_train[feature_name].unique().tolist()\n",
        "\n",
        "  if x_train[feature_name].dtype == 'object':\n",
        "        lookup = tf.keras.layers.StringLookup(vocabulary=vocab, output_mode=\"one_hot\")\n",
        "  else:\n",
        "        lookup = tf.keras.layers.IntegerLookup(vocabulary=vocab, output_mode=\"one_hot\")\n",
        "\n",
        "  feature_columns.append(lookup)\n",
        "\n",
        "for feature_name in NUMERIC_COLUMNS:\n",
        "  norm = tf.keras.layers.Normalization()\n",
        "  norm.adapt(x_train[feature_name].values.reshape(-1, 1))\n",
        "  feature_columns.append(norm)"
      ],
      "metadata": {
        "id": "CCLPzNWFDZ0B"
      },
      "execution_count": 11,
      "outputs": []
    },
    {
      "cell_type": "code",
      "source": [
        "print(feature_columns)"
      ],
      "metadata": {
        "colab": {
          "base_uri": "https://localhost:8080/"
        },
        "id": "ngkrW_3oI5MY",
        "outputId": "2005b018-08fb-4612-f313-16f45c4e4a7c"
      },
      "execution_count": 12,
      "outputs": [
        {
          "output_type": "stream",
          "name": "stdout",
          "text": [
            "[<StringLookup name=string_lookup_14, built=False>, <IntegerLookup name=integer_lookup_4, built=False>, <IntegerLookup name=integer_lookup_5, built=False>, <StringLookup name=string_lookup_15, built=False>, <StringLookup name=string_lookup_16, built=False>, <StringLookup name=string_lookup_17, built=False>, <StringLookup name=string_lookup_18, built=False>, <Normalization name=normalization_4, built=True>, <Normalization name=normalization_5, built=True>]\n"
          ]
        }
      ]
    }
  ]
}